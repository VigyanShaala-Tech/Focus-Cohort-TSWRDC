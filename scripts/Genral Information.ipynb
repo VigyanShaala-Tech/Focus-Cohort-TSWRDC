{
 "cells": [
  {
   "cell_type": "code",
   "execution_count": 1,
   "id": "5deb8d6e-2e50-41b7-acac-6015c03a8c5e",
   "metadata": {},
   "outputs": [],
   "source": [
    "# importing required modules\n",
    "import pandas as pd \n",
    "import mysql.connector as msql\n",
    "import math\n",
    "import os\n",
    "import re"
   ]
  },
  {
   "cell_type": "code",
   "execution_count": 2,
   "id": "8486ef6d-95e3-4745-bfc0-a91fd43567c2",
   "metadata": {},
   "outputs": [
    {
     "name": "stdout",
     "output_type": "stream",
     "text": [
      "Data from TS_TT_General Info.xlsx:\n"
     ]
    }
   ],
   "source": [
    "# Importing Excel file form directory \n",
    "directory_path =(r'C:\\Users\\spjay\\OneDrive - VigyanShaala\\02 Products  Initiatives\\01 Kalpana\\05 Kalpana M&E\\00 DBMS 1.0\\Kalpana\\Kalpana\\04 Incubator - Curriculum Cohort\\TSWRDC Code\\Source\\New Student Info')\n",
    "\n",
    "excel_files = [file for file in os.listdir(directory_path) if file.endswith('.xlsx')]\n",
    "\n",
    "for file in excel_files:\n",
    "    file_path = os.path.join(directory_path, file)\n",
    "    df = pd.read_excel(file_path)\n",
    "    print(f\"Data from {file}:\")"
   ]
  },
  {
   "cell_type": "code",
   "execution_count": 3,
   "id": "f2123fe9-3b97-4971-8125-fe88f2fb2bf6",
   "metadata": {},
   "outputs": [
    {
     "name": "stdout",
     "output_type": "stream",
     "text": [
      "Data from TSWRDC - Feb - Apr 2024-1724831698103.csv:\n"
     ]
    }
   ],
   "source": [
    "#Reading She for STEM Incubator file present on source files\n",
    "directory_path =(r\"C:\\Users\\spjay\\OneDrive - VigyanShaala\\02 Products  Initiatives\\01 Kalpana\\05 Kalpana M&E\\00 DBMS 1.0\\Kalpana\\Kalpana\\04 Incubator - Curriculum Cohort\\TSWRDC Code\\Source\\Course Data\")\n",
    "csv_files = [file for file in os.listdir(directory_path) if file.endswith('.csv')]\n",
    "\n",
    "for file in csv_files:\n",
    "    file_path = os.path.join(directory_path, file)\n",
    "    data = pd.read_csv(file_path)\n",
    "    print(f\"Data from {file}:\")"
   ]
  },
  {
   "cell_type": "code",
   "execution_count": 4,
   "id": "f2a5051b-e9b2-4f4e-b37f-2dc07df85d3b",
   "metadata": {},
   "outputs": [],
   "source": [
    "# Define a list of column names to extract for putting into database \n",
    "columns_to_extract = ['Name', 'Email', 'Segment', 'Mobile', 'Enroll Date', 'Assigned Through', 'Course Name','Start Date','Last Login']\n",
    "\n",
    "# Use the loc method to extract the specified columns\n",
    "data = data.loc[:, columns_to_extract]"
   ]
  },
  {
   "cell_type": "code",
   "execution_count": 7,
   "id": "c4b34160-7eec-4729-b7d9-a08121f2c20e",
   "metadata": {},
   "outputs": [
    {
     "data": {
      "text/plain": [
       "(1087, 9)"
      ]
     },
     "execution_count": 7,
     "metadata": {},
     "output_type": "execute_result"
    }
   ],
   "source": [
    "# Few rows of data\n",
    "data.shape"
   ]
  },
  {
   "cell_type": "code",
   "execution_count": 7,
   "id": "c265226e-614e-4c9a-9a8b-dfa1221f4048",
   "metadata": {},
   "outputs": [],
   "source": [
    "# Function to clean email addresses\n",
    "def clean_email(email):\n",
    "\n",
    "    # Convert to lowercase and remove extra spaces\n",
    "    cleaned_email = email.lower().strip()\n",
    "    # Remove patterns like \".com.1\"\n",
    "    cleaned_email = re.sub(r'\\.com\\.\\d+', '.com', cleaned_email)\n",
    "    return cleaned_email\n",
    "\n",
    "# Apply the function to the 'email' column\n",
    "df['Email'] = df['Email'].apply(clean_email)"
   ]
  },
  {
   "cell_type": "code",
   "execution_count": 8,
   "id": "d280f429-dc52-47f5-8a89-ea9b39dec305",
   "metadata": {},
   "outputs": [
    {
     "data": {
      "text/plain": [
       "Index(['Email', 'Name', 'Phone', 'Gender', 'Currently Pursuing Degree',\n",
       "       'Subject Area', 'Name of College', 'Country', 'State/Union Territory',\n",
       "       'District', 'City Category', 'Caste/Category', 'Annual Income',\n",
       "       'Assigned through', 'Incubator Course Name', 'Incubator Batch'],\n",
       "      dtype='object')"
      ]
     },
     "execution_count": 8,
     "metadata": {},
     "output_type": "execute_result"
    }
   ],
   "source": [
    "# Column Names of data\n",
    "df.columns"
   ]
  },
  {
   "cell_type": "code",
   "execution_count": 9,
   "id": "0310a4e0-127d-4705-9a04-13b3590214df",
   "metadata": {},
   "outputs": [],
   "source": [
    "# Renaming Column name in data\n",
    "df.columns =['Email', 'Name', 'Phone', 'Gender', 'Currently_Pursuing_Degree',\n",
    "       'Subject_Area', 'Name_of_College_University', 'Country',\n",
    "       'State_Union_Territory', 'District', 'City_Category', 'Caste_Category',\n",
    "       'Annual_Family_Income', 'Assigned_Through','Incubator_Course_Name','Incubator_Batch']"
   ]
  },
  {
   "cell_type": "code",
   "execution_count": 10,
   "id": "cd75e70f-e459-42f2-a5aa-130e5d2e891c",
   "metadata": {},
   "outputs": [
    {
     "data": {
      "text/plain": [
       "Index(['Email', 'Name', 'Phone', 'Gender', 'Currently_Pursuing_Degree',\n",
       "       'Subject_Area', 'Name_of_College_University', 'Country',\n",
       "       'State_Union_Territory', 'District', 'City_Category', 'Caste_Category',\n",
       "       'Annual_Family_Income', 'Assigned_Through', 'Incubator_Course_Name',\n",
       "       'Incubator_Batch'],\n",
       "      dtype='object')"
      ]
     },
     "execution_count": 10,
     "metadata": {},
     "output_type": "execute_result"
    }
   ],
   "source": [
    "df.columns"
   ]
  },
  {
   "cell_type": "markdown",
   "id": "0810e309-f9dc-4199-8ccd-f383eb5c279c",
   "metadata": {},
   "source": [
    "# General Information MySQL table"
   ]
  },
  {
   "cell_type": "code",
   "execution_count": null,
   "id": "b94c70f0-691e-481f-a26b-933dd0d3d9ba",
   "metadata": {},
   "outputs": [],
   "source": [
    "# Connecting to MySQL Database\n",
    "conn= msql.connect(host='',user='',password=\"\",database=\"\",auth_plugin='')\n"
   ]
  },
  {
   "cell_type": "code",
   "execution_count": 12,
   "id": "c2d0fe3f-c55b-49eb-9052-635207d2a1be",
   "metadata": {},
   "outputs": [],
   "source": [
    "cursor =conn.cursor()"
   ]
  },
  {
   "cell_type": "code",
   "execution_count": 13,
   "id": "af4dce9c-b3c8-48c7-8bb1-b039d9ae0a36",
   "metadata": {},
   "outputs": [],
   "source": [
    "for i, row in df.iterrows():\n",
    "    row = [None if isinstance(val, float) and math.isnan(val) else val for val in row] # replace \"nan\" values with None\n",
    "    columns = ','.join(df.columns)\n",
    "    placeholders = ','.join(['%s']*len(row))\n",
    "    # Construct the INSERT query with ON DUPLICATE KEY UPDATE clause\n",
    "    query = f\"INSERT INTO she_for_stem.01_general_information ({columns}) VALUES ({placeholders}) ON DUPLICATE KEY UPDATE \"\n",
    "    query += \", \".join([f\"{col}=VALUES({col})\" for col in df.columns if col != 'Email'])\n",
    "    # Execute the query\n",
    "    cursor.execute(query, tuple(row))"
   ]
  },
  {
   "cell_type": "code",
   "execution_count": 14,
   "id": "24a21ea8-841b-4515-a6b9-8dc900f75ba4",
   "metadata": {},
   "outputs": [],
   "source": [
    "# Inserting records from data file, if already present ignoring it.\n",
    "for i,row in df.iterrows():\n",
    "    row = [None if isinstance(val, float) and math.isnan(val) else val for val in row] # replace \"nan\" values with None\n",
    "    cursor.execute(\"INSERT IGNORE INTO she_for_stem.01_general_information(Email, Name, Phone, Gender, Currently_Pursuing_Degree, Subject_Area, Name_of_College_University, Country, State_Union_Territory, District, City_Category, Caste_Category, Annual_Family_Income, Assigned_Through,Incubator_Course_Name,Incubator_Batch) VALUES (%s,%s,%s,%s,%s,%s,%s,%s,%s,%s,%s,%s,%s,%s,%s,%s)\", tuple(row))\n"
   ]
  },
  {
   "cell_type": "code",
   "execution_count": 15,
   "id": "10ee4a0c-8c2f-4ca8-a84f-35dae7625209",
   "metadata": {},
   "outputs": [],
   "source": [
    "conn.commit()"
   ]
  },
  {
   "cell_type": "code",
   "execution_count": null,
   "id": "356e2bed-26d0-4ae5-8978-ec40e33dee37",
   "metadata": {},
   "outputs": [],
   "source": []
  },
  {
   "cell_type": "markdown",
   "id": "3a91bdfd-0818-4fe4-8d30-7a2874750aed",
   "metadata": {},
   "source": [
    "# Payment details MySQL table"
   ]
  },
  {
   "cell_type": "code",
   "execution_count": 16,
   "id": "650e9d45-3724-417b-9092-6e6b36d3105a",
   "metadata": {},
   "outputs": [],
   "source": [
    "# Creating new table which for Payment which is taken from incubator graphy sheet\n",
    "Payment=pd.DataFrame(df[[\"Email\",\"Assigned_Through\"]])"
   ]
  },
  {
   "cell_type": "code",
   "execution_count": 17,
   "id": "f54b685f-624d-43d0-b676-64638900f486",
   "metadata": {},
   "outputs": [],
   "source": [
    "# Assigning fee cost to different cathegory of enrollment\n",
    "Payment[\"Assigned_Through\"]=Payment[\"Assigned_Through\"].replace(['Scholarship'],'0')"
   ]
  },
  {
   "cell_type": "code",
   "execution_count": 18,
   "id": "2be54402-c665-42eb-9e80-59cc8ad0a4c6",
   "metadata": {},
   "outputs": [],
   "source": [
    "# Connecting to MySQL Database\n",
    "conn= msql.connect(host='localhost',user='root',password=\"VS@123\",database=\"she_for_stem\",auth_plugin='mysql_native_password')\n",
    "cursor =conn.cursor()"
   ]
  },
  {
   "cell_type": "code",
   "execution_count": 19,
   "id": "1ba76195-d83e-4348-8dc7-1f3e9fd7f3c7",
   "metadata": {},
   "outputs": [],
   "source": [
    "# Inserting data into 02_payment_details \n",
    "for i,row in Payment.iterrows():\n",
    "    cursor.execute(\"insert Ignore into 02_payment_details (Email,Incubator_Fee) values(%s,%s)\",tuple(row))"
   ]
  },
  {
   "cell_type": "code",
   "execution_count": 20,
   "id": "59b7cebf-9a37-4e0c-b116-d6d022591031",
   "metadata": {},
   "outputs": [],
   "source": [
    "# Replacing data with new data into 02_payment_details \n",
    "for i,row in Payment.iterrows():\n",
    "    cursor.execute(\"REPLACE into 02_payment_details (Email,Incubator_Fee) values(%s,%s)\",tuple(row))"
   ]
  },
  {
   "cell_type": "code",
   "execution_count": 21,
   "id": "938aec4d-d269-43d9-afc4-77d15d1794c9",
   "metadata": {},
   "outputs": [],
   "source": [
    "conn.commit()"
   ]
  },
  {
   "cell_type": "markdown",
   "id": "7d1e8710-ab34-4483-b038-1a71a86ddb34",
   "metadata": {},
   "source": [
    "# Enroll Date MySQL Table"
   ]
  },
  {
   "cell_type": "code",
   "execution_count": 22,
   "id": "8248e071-ebbb-42d0-80cd-7ab570d46452",
   "metadata": {},
   "outputs": [],
   "source": [
    "# Creating new table which for Enroll_Dates which is taken from incubator graphy sheet\n",
    "Enroll=pd.DataFrame(data[[\"Email\", 'Enroll Date']])"
   ]
  },
  {
   "cell_type": "code",
   "execution_count": 23,
   "id": "7cf19b2d-01ed-481e-8908-954bd212474b",
   "metadata": {},
   "outputs": [],
   "source": [
    "# Extracting only Enroll_Date\n",
    "Enroll[['Enroll Date','Time']]=Enroll['Enroll Date'].str.split(' ',expand=True)\n",
    "Enroll=Enroll.drop([\"Time\"],axis=1)"
   ]
  },
  {
   "cell_type": "code",
   "execution_count": 24,
   "id": "2152ab75-f556-477c-aadb-29a4fcbf0c64",
   "metadata": {},
   "outputs": [],
   "source": [
    "# Connecting to MySQL Database\n",
    "conn= msql.connect(host='localhost',user='root',password=\"VS@123\",database=\"she_for_stem\",auth_plugin='mysql_native_password')\n",
    "cursor =conn.cursor()"
   ]
  },
  {
   "cell_type": "code",
   "execution_count": 25,
   "id": "02be8c97-5771-4625-9d6c-087446a5a248",
   "metadata": {},
   "outputs": [],
   "source": [
    "# Inserting data to 03_enroll_date table\n",
    "for i,row in Enroll.iterrows():\n",
    "    cursor.execute(\"insert IGNORE into 03_enroll_date (Email,Incubator) values(%s,%s)\",tuple(row))"
   ]
  },
  {
   "cell_type": "code",
   "execution_count": 26,
   "id": "df2c6d77-3993-4bc6-a20a-29a555494bb1",
   "metadata": {},
   "outputs": [],
   "source": [
    "# Replacing data  with new data to 03_enroll_date table\n",
    "for i,row in Enroll.iterrows():\n",
    "    cursor.execute(\"REPLACE into 03_enroll_date (Email,Incubator) values(%s,%s)\",tuple(row))"
   ]
  },
  {
   "cell_type": "code",
   "execution_count": 27,
   "id": "8301307f-b334-4a25-b34e-3d015d1fd083",
   "metadata": {},
   "outputs": [],
   "source": [
    "conn.commit()"
   ]
  },
  {
   "cell_type": "markdown",
   "id": "06487000-6100-4ac5-9f4a-3d345fb30e04",
   "metadata": {},
   "source": [
    "# Batch Lastlogin Startdate MySQL Table"
   ]
  },
  {
   "cell_type": "code",
   "execution_count": 8,
   "id": "24bc6448-cfa5-41f3-abc8-33d9201c71ff",
   "metadata": {},
   "outputs": [],
   "source": [
    "# Creating new table which for Batch which is taken from incubator graphy sheet\n",
    "Batch=pd.DataFrame(data[[\"Email\", 'Last Login','Start Date']])"
   ]
  },
  {
   "cell_type": "code",
   "execution_count": 12,
   "id": "35fd4e75-6388-4095-acd0-3b084148d4da",
   "metadata": {},
   "outputs": [
    {
     "data": {
      "text/html": [
       "<div>\n",
       "<style scoped>\n",
       "    .dataframe tbody tr th:only-of-type {\n",
       "        vertical-align: middle;\n",
       "    }\n",
       "\n",
       "    .dataframe tbody tr th {\n",
       "        vertical-align: top;\n",
       "    }\n",
       "\n",
       "    .dataframe thead th {\n",
       "        text-align: right;\n",
       "    }\n",
       "</style>\n",
       "<table border=\"1\" class=\"dataframe\">\n",
       "  <thead>\n",
       "    <tr style=\"text-align: right;\">\n",
       "      <th></th>\n",
       "      <th>Email</th>\n",
       "      <th>Last Login</th>\n",
       "      <th>Start Date</th>\n",
       "    </tr>\n",
       "  </thead>\n",
       "  <tbody>\n",
       "    <tr>\n",
       "      <th>0</th>\n",
       "      <td>vijayacads@gmail.com</td>\n",
       "      <td>04-11-2023</td>\n",
       "      <td>30-09-2023</td>\n",
       "    </tr>\n",
       "    <tr>\n",
       "      <th>1</th>\n",
       "      <td>sreejith.sreenivasan@vigyanshaala.com</td>\n",
       "      <td>06-11-2023</td>\n",
       "      <td>21-09-2023</td>\n",
       "    </tr>\n",
       "    <tr>\n",
       "      <th>2</th>\n",
       "      <td>monikadaw5353@gmail.com</td>\n",
       "      <td>02-02-2023</td>\n",
       "      <td>Not Started</td>\n",
       "    </tr>\n",
       "    <tr>\n",
       "      <th>3</th>\n",
       "      <td>prachijagdale0123@gmail.com</td>\n",
       "      <td>30-09-2023</td>\n",
       "      <td>Not Started</td>\n",
       "    </tr>\n",
       "    <tr>\n",
       "      <th>4</th>\n",
       "      <td>nikitasingh4615@gmail.com</td>\n",
       "      <td>16-10-2023</td>\n",
       "      <td>07-10-2023</td>\n",
       "    </tr>\n",
       "    <tr>\n",
       "      <th>...</th>\n",
       "      <td>...</td>\n",
       "      <td>...</td>\n",
       "      <td>...</td>\n",
       "    </tr>\n",
       "    <tr>\n",
       "      <th>1082</th>\n",
       "      <td>tambolisamina5@gmail.com</td>\n",
       "      <td>-</td>\n",
       "      <td>Not Started</td>\n",
       "    </tr>\n",
       "    <tr>\n",
       "      <th>1083</th>\n",
       "      <td>anushkamarkad.27@gmail.com</td>\n",
       "      <td>-</td>\n",
       "      <td>Not Started</td>\n",
       "    </tr>\n",
       "    <tr>\n",
       "      <th>1084</th>\n",
       "      <td>durvajondhale.work@gmail.com</td>\n",
       "      <td>-</td>\n",
       "      <td>Not Started</td>\n",
       "    </tr>\n",
       "    <tr>\n",
       "      <th>1085</th>\n",
       "      <td>unnatibansod3201@gmail.com</td>\n",
       "      <td>-</td>\n",
       "      <td>Not Started</td>\n",
       "    </tr>\n",
       "    <tr>\n",
       "      <th>1086</th>\n",
       "      <td>muskangupta4818@gmail.com</td>\n",
       "      <td>-</td>\n",
       "      <td>Not Started</td>\n",
       "    </tr>\n",
       "  </tbody>\n",
       "</table>\n",
       "<p>1087 rows × 3 columns</p>\n",
       "</div>"
      ],
      "text/plain": [
       "                                      Email  Last Login   Start Date\n",
       "0                      vijayacads@gmail.com  04-11-2023   30-09-2023\n",
       "1     sreejith.sreenivasan@vigyanshaala.com  06-11-2023   21-09-2023\n",
       "2                   monikadaw5353@gmail.com  02-02-2023  Not Started\n",
       "3               prachijagdale0123@gmail.com  30-09-2023  Not Started\n",
       "4                 nikitasingh4615@gmail.com  16-10-2023   07-10-2023\n",
       "...                                     ...         ...          ...\n",
       "1082               tambolisamina5@gmail.com           -  Not Started\n",
       "1083             anushkamarkad.27@gmail.com           -  Not Started\n",
       "1084           durvajondhale.work@gmail.com           -  Not Started\n",
       "1085             unnatibansod3201@gmail.com           -  Not Started\n",
       "1086              muskangupta4818@gmail.com           -  Not Started\n",
       "\n",
       "[1087 rows x 3 columns]"
      ]
     },
     "execution_count": 12,
     "metadata": {},
     "output_type": "execute_result"
    }
   ],
   "source": [
    "Batch"
   ]
  },
  {
   "cell_type": "code",
   "execution_count": 10,
   "id": "7a98461b-dd4d-4341-b506-cd8de2f3224a",
   "metadata": {},
   "outputs": [],
   "source": [
    "# Extracting only Enroll_Date\n",
    "Batch[['Last Login','Time']]=Batch['Last Login'].str.split(' ',expand=True)\n",
    "Batch=Batch.drop([\"Time\"],axis=1)"
   ]
  },
  {
   "cell_type": "code",
   "execution_count": 11,
   "id": "92502665-6492-491f-9543-cf4cc1eaa290",
   "metadata": {},
   "outputs": [],
   "source": [
    "# Function to convert 'Start Date' format\n",
    "def convert_start_date(date_str):\n",
    "    if re.match(r'\\d{4}/\\d{2}/\\d{2}', date_str):\n",
    "        return pd.to_datetime(date_str, format='%Y/%m/%d').strftime('%d-%m-%Y')\n",
    "    return date_str\n",
    "\n",
    "# Function to convert 'Last Login' format\n",
    "def convert_last_login(date_str):\n",
    "    if re.match(r'\\d{2}/\\d{2}/\\d{2}', date_str):\n",
    "        return pd.to_datetime(date_str, format='%d/%m/%y').strftime('%d-%m-%Y')\n",
    "    return date_str\n",
    "\n",
    "\n",
    "# Apply the conversion functions to the respective columns\n",
    "Batch['Start Date'] = Batch['Start Date'].apply(convert_start_date)\n",
    "Batch['Last Login'] = Batch['Last Login'].apply(convert_last_login)"
   ]
  },
  {
   "cell_type": "code",
   "execution_count": 13,
   "id": "63f485e4-4ec0-402c-abf1-cf2e66328dc6",
   "metadata": {},
   "outputs": [],
   "source": [
    "# Connecting to MySQL Database\n",
    "conn= msql.connect(host='localhost',user='root',password=\"VS@123\",database=\"she_for_stem\",auth_plugin='mysql_native_password')\n",
    "cursor =conn.cursor()"
   ]
  },
  {
   "cell_type": "code",
   "execution_count": 15,
   "id": "e4681531-004a-48e8-9f2a-1695d9eb4f15",
   "metadata": {},
   "outputs": [],
   "source": [
    "# Inserting data to 15_batch_lastlogin_startdate table\n",
    "for i,row in Batch.iterrows():\n",
    "    cursor.execute(\"insert IGNORE into 15_batch_lastlogin_startdate (Email,Incubator_Last_Login,Incubator_Start_Date) values(%s,%s,%s)\",tuple(row))"
   ]
  },
  {
   "cell_type": "code",
   "execution_count": 16,
   "id": "2f5c7a05-5493-4e78-a6fa-6b494219e319",
   "metadata": {},
   "outputs": [],
   "source": [
    "# Replacing data  with new data to 03_enroll_date table\n",
    "for i,row in Batch.iterrows():\n",
    "    cursor.execute(\"REPLACE into 15_batch_lastlogin_startdate (Email,Incubator_Last_Login,Incubator_Start_Date) values(%s,%s,%s)\",tuple(row))"
   ]
  },
  {
   "cell_type": "code",
   "execution_count": 17,
   "id": "d701310c-1b9e-48b7-a65e-b0132c8aa3f7",
   "metadata": {},
   "outputs": [],
   "source": [
    "conn.commit()"
   ]
  }
 ],
 "metadata": {
  "kernelspec": {
   "display_name": "Python 3 (ipykernel)",
   "language": "python",
   "name": "python3"
  },
  "language_info": {
   "codemirror_mode": {
    "name": "ipython",
    "version": 3
   },
   "file_extension": ".py",
   "mimetype": "text/x-python",
   "name": "python",
   "nbconvert_exporter": "python",
   "pygments_lexer": "ipython3",
   "version": "3.11.7"
  }
 },
 "nbformat": 4,
 "nbformat_minor": 5
}
